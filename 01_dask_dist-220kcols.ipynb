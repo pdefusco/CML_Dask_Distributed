{
 "cells": [
  {
   "cell_type": "code",
   "execution_count": 1,
   "id": "62f1bb45-9129-4cce-b56d-8eb0f80ba1d7",
   "metadata": {
    "tags": []
   },
   "outputs": [
    {
     "name": "stdout",
     "output_type": "stream",
     "text": [
      "\n",
      "--------------------\n",
      "Dask cluster started\n",
      "--------------------\n",
      "\n",
      "The Dask dashboard is running at\n",
      "https://c778btmhqczthgkd.ml-f0942348-224.paul-aug.a465-9q4k.cloudera.site/status\n",
      "\n",
      "To connect to this Dask cluster from this CML Session,\n",
      "use the following Python code:\n",
      "  from dask.distributed import Client\n",
      "  client = Client('tcp://100.100.219.139:8786')\n",
      "\n"
     ]
    }
   ],
   "source": [
    "import os\n",
    "import cdsw\n",
    "from src.cml_extensions.dask_cluster.dask_cluster import DaskCluster\n",
    "\n",
    "#os.environ[\"\"]\n",
    "\n",
    "cluster = DaskCluster(num_workers=10, worker_cpu=64, worker_memory=360, scheduler_cpu=160, scheduler_memory=360)\n",
    "cluster.init()"
   ]
  },
  {
   "cell_type": "code",
   "execution_count": 2,
   "id": "e2ed294b-1ea7-4647-9906-f0fbec259613",
   "metadata": {
    "tags": []
   },
   "outputs": [],
   "source": [
    "from multiprocessing import cpu_count\n",
    "import time"
   ]
  },
  {
   "cell_type": "code",
   "execution_count": 3,
   "id": "c7a92d18-9717-4089-8dfe-532739b58a9d",
   "metadata": {
    "tags": []
   },
   "outputs": [
    {
     "data": {
      "text/plain": [
       "192"
      ]
     },
     "execution_count": 3,
     "metadata": {},
     "output_type": "execute_result"
    }
   ],
   "source": [
    "cpu_count()"
   ]
  },
  {
   "cell_type": "code",
   "execution_count": 4,
   "id": "db62b902-2968-41fd-9deb-d6dbd1b1cfa6",
   "metadata": {
    "tags": []
   },
   "outputs": [
    {
     "data": {
      "text/html": [
       "<div>\n",
       "    <div style=\"width: 24px; height: 24px; background-color: #e1e1e1; border: 3px solid #9D9D9D; border-radius: 5px; position: absolute;\"> </div>\n",
       "    <div style=\"margin-left: 48px;\">\n",
       "        <h3 style=\"margin-bottom: 0px;\">Client</h3>\n",
       "        <p style=\"color: #9D9D9D; margin-bottom: 0px;\">Client-54e728af-7c51-11ef-8179-d6a7b4b9ce57</p>\n",
       "        <table style=\"width: 100%; text-align: left;\">\n",
       "\n",
       "        <tr>\n",
       "        \n",
       "            <td style=\"text-align: left;\"><strong>Connection method:</strong> Direct</td>\n",
       "            <td style=\"text-align: left;\"></td>\n",
       "        \n",
       "        </tr>\n",
       "\n",
       "        \n",
       "            <tr>\n",
       "                <td style=\"text-align: left;\">\n",
       "                    <strong>Dashboard: </strong> <a href=\"http://100.100.219.139:8090/status\" target=\"_blank\">http://100.100.219.139:8090/status</a>\n",
       "                </td>\n",
       "                <td style=\"text-align: left;\"></td>\n",
       "            </tr>\n",
       "        \n",
       "\n",
       "        </table>\n",
       "\n",
       "        \n",
       "\n",
       "        \n",
       "            <details>\n",
       "            <summary style=\"margin-bottom: 20px;\"><h3 style=\"display: inline;\">Scheduler Info</h3></summary>\n",
       "            <div style=\"\">\n",
       "    <div>\n",
       "        <div style=\"width: 24px; height: 24px; background-color: #FFF7E5; border: 3px solid #FF6132; border-radius: 5px; position: absolute;\"> </div>\n",
       "        <div style=\"margin-left: 48px;\">\n",
       "            <h3 style=\"margin-bottom: 0px;\">Scheduler</h3>\n",
       "            <p style=\"color: #9D9D9D; margin-bottom: 0px;\">Scheduler-9d86bbcd-bfb3-4dca-a994-5577d58f8fe8</p>\n",
       "            <table style=\"width: 100%; text-align: left;\">\n",
       "                <tr>\n",
       "                    <td style=\"text-align: left;\">\n",
       "                        <strong>Comm:</strong> tcp://100.100.219.139:8786\n",
       "                    </td>\n",
       "                    <td style=\"text-align: left;\">\n",
       "                        <strong>Workers:</strong> 10\n",
       "                    </td>\n",
       "                </tr>\n",
       "                <tr>\n",
       "                    <td style=\"text-align: left;\">\n",
       "                        <strong>Dashboard:</strong> <a href=\"http://100.100.219.139:8090/status\" target=\"_blank\">http://100.100.219.139:8090/status</a>\n",
       "                    </td>\n",
       "                    <td style=\"text-align: left;\">\n",
       "                        <strong>Total threads:</strong> 1920\n",
       "                    </td>\n",
       "                </tr>\n",
       "                <tr>\n",
       "                    <td style=\"text-align: left;\">\n",
       "                        <strong>Started:</strong> 1 minute ago\n",
       "                    </td>\n",
       "                    <td style=\"text-align: left;\">\n",
       "                        <strong>Total memory:</strong> 3.27 TiB\n",
       "                    </td>\n",
       "                </tr>\n",
       "            </table>\n",
       "        </div>\n",
       "    </div>\n",
       "\n",
       "    <details style=\"margin-left: 48px;\">\n",
       "        <summary style=\"margin-bottom: 20px;\">\n",
       "            <h3 style=\"display: inline;\">Workers</h3>\n",
       "        </summary>\n",
       "\n",
       "        \n",
       "        <div style=\"margin-bottom: 20px;\">\n",
       "            <div style=\"width: 24px; height: 24px; background-color: #DBF5FF; border: 3px solid #4CC9FF; border-radius: 5px; position: absolute;\"> </div>\n",
       "            <div style=\"margin-left: 48px;\">\n",
       "            <details>\n",
       "                <summary>\n",
       "                    <h4 style=\"margin-bottom: 0px; display: inline;\">Worker: tcp://100.100.168.12:36475</h4>\n",
       "                </summary>\n",
       "                <table style=\"width: 100%; text-align: left;\">\n",
       "                    <tr>\n",
       "                        <td style=\"text-align: left;\">\n",
       "                            <strong>Comm: </strong> tcp://100.100.168.12:36475\n",
       "                        </td>\n",
       "                        <td style=\"text-align: left;\">\n",
       "                            <strong>Total threads: </strong> 192\n",
       "                        </td>\n",
       "                    </tr>\n",
       "                    <tr>\n",
       "                        <td style=\"text-align: left;\">\n",
       "                            <strong>Dashboard: </strong> <a href=\"http://100.100.168.12:34435/status\" target=\"_blank\">http://100.100.168.12:34435/status</a>\n",
       "                        </td>\n",
       "                        <td style=\"text-align: left;\">\n",
       "                            <strong>Memory: </strong> 335.21 GiB\n",
       "                        </td>\n",
       "                    </tr>\n",
       "                    <tr>\n",
       "                        <td style=\"text-align: left;\">\n",
       "                            <strong>Nanny: </strong> tcp://100.100.168.12:42559\n",
       "                        </td>\n",
       "                        <td style=\"text-align: left;\"></td>\n",
       "                    </tr>\n",
       "                    <tr>\n",
       "                        <td colspan=\"2\" style=\"text-align: left;\">\n",
       "                            <strong>Local directory: </strong> /tmp/dask-scratch-space/worker-gxeq9xv0\n",
       "                        </td>\n",
       "                    </tr>\n",
       "\n",
       "                    \n",
       "\n",
       "                    \n",
       "                    <tr>\n",
       "                        <td style=\"text-align: left;\">\n",
       "                            <strong>Tasks executing: </strong> \n",
       "                        </td>\n",
       "                        <td style=\"text-align: left;\">\n",
       "                            <strong>Tasks in memory: </strong> \n",
       "                        </td>\n",
       "                    </tr>\n",
       "                    <tr>\n",
       "                        <td style=\"text-align: left;\">\n",
       "                            <strong>Tasks ready: </strong> \n",
       "                        </td>\n",
       "                        <td style=\"text-align: left;\">\n",
       "                            <strong>Tasks in flight: </strong>\n",
       "                        </td>\n",
       "                    </tr>\n",
       "                    <tr>\n",
       "                        <td style=\"text-align: left;\">\n",
       "                            <strong>CPU usage:</strong> 4.0%\n",
       "                        </td>\n",
       "                        <td style=\"text-align: left;\">\n",
       "                            <strong>Last seen: </strong> Just now\n",
       "                        </td>\n",
       "                    </tr>\n",
       "                    <tr>\n",
       "                        <td style=\"text-align: left;\">\n",
       "                            <strong>Memory usage: </strong> 138.53 MiB\n",
       "                        </td>\n",
       "                        <td style=\"text-align: left;\">\n",
       "                            <strong>Spilled bytes: </strong> 0 B\n",
       "                        </td>\n",
       "                    </tr>\n",
       "                    <tr>\n",
       "                        <td style=\"text-align: left;\">\n",
       "                            <strong>Read bytes: </strong> 285.89181967897576 B\n",
       "                        </td>\n",
       "                        <td style=\"text-align: left;\">\n",
       "                            <strong>Write bytes: </strong> 1.45 kiB\n",
       "                        </td>\n",
       "                    </tr>\n",
       "                    \n",
       "\n",
       "                </table>\n",
       "            </details>\n",
       "            </div>\n",
       "        </div>\n",
       "        \n",
       "        <div style=\"margin-bottom: 20px;\">\n",
       "            <div style=\"width: 24px; height: 24px; background-color: #DBF5FF; border: 3px solid #4CC9FF; border-radius: 5px; position: absolute;\"> </div>\n",
       "            <div style=\"margin-left: 48px;\">\n",
       "            <details>\n",
       "                <summary>\n",
       "                    <h4 style=\"margin-bottom: 0px; display: inline;\">Worker: tcp://100.100.168.13:45791</h4>\n",
       "                </summary>\n",
       "                <table style=\"width: 100%; text-align: left;\">\n",
       "                    <tr>\n",
       "                        <td style=\"text-align: left;\">\n",
       "                            <strong>Comm: </strong> tcp://100.100.168.13:45791\n",
       "                        </td>\n",
       "                        <td style=\"text-align: left;\">\n",
       "                            <strong>Total threads: </strong> 192\n",
       "                        </td>\n",
       "                    </tr>\n",
       "                    <tr>\n",
       "                        <td style=\"text-align: left;\">\n",
       "                            <strong>Dashboard: </strong> <a href=\"http://100.100.168.13:38057/status\" target=\"_blank\">http://100.100.168.13:38057/status</a>\n",
       "                        </td>\n",
       "                        <td style=\"text-align: left;\">\n",
       "                            <strong>Memory: </strong> 335.21 GiB\n",
       "                        </td>\n",
       "                    </tr>\n",
       "                    <tr>\n",
       "                        <td style=\"text-align: left;\">\n",
       "                            <strong>Nanny: </strong> tcp://100.100.168.13:46053\n",
       "                        </td>\n",
       "                        <td style=\"text-align: left;\"></td>\n",
       "                    </tr>\n",
       "                    <tr>\n",
       "                        <td colspan=\"2\" style=\"text-align: left;\">\n",
       "                            <strong>Local directory: </strong> /tmp/dask-scratch-space/worker-s7l9yurr\n",
       "                        </td>\n",
       "                    </tr>\n",
       "\n",
       "                    \n",
       "\n",
       "                    \n",
       "                    <tr>\n",
       "                        <td style=\"text-align: left;\">\n",
       "                            <strong>Tasks executing: </strong> \n",
       "                        </td>\n",
       "                        <td style=\"text-align: left;\">\n",
       "                            <strong>Tasks in memory: </strong> \n",
       "                        </td>\n",
       "                    </tr>\n",
       "                    <tr>\n",
       "                        <td style=\"text-align: left;\">\n",
       "                            <strong>Tasks ready: </strong> \n",
       "                        </td>\n",
       "                        <td style=\"text-align: left;\">\n",
       "                            <strong>Tasks in flight: </strong>\n",
       "                        </td>\n",
       "                    </tr>\n",
       "                    <tr>\n",
       "                        <td style=\"text-align: left;\">\n",
       "                            <strong>CPU usage:</strong> 2.0%\n",
       "                        </td>\n",
       "                        <td style=\"text-align: left;\">\n",
       "                            <strong>Last seen: </strong> Just now\n",
       "                        </td>\n",
       "                    </tr>\n",
       "                    <tr>\n",
       "                        <td style=\"text-align: left;\">\n",
       "                            <strong>Memory usage: </strong> 139.72 MiB\n",
       "                        </td>\n",
       "                        <td style=\"text-align: left;\">\n",
       "                            <strong>Spilled bytes: </strong> 0 B\n",
       "                        </td>\n",
       "                    </tr>\n",
       "                    <tr>\n",
       "                        <td style=\"text-align: left;\">\n",
       "                            <strong>Read bytes: </strong> 285.93003577959723 B\n",
       "                        </td>\n",
       "                        <td style=\"text-align: left;\">\n",
       "                            <strong>Write bytes: </strong> 1.45 kiB\n",
       "                        </td>\n",
       "                    </tr>\n",
       "                    \n",
       "\n",
       "                </table>\n",
       "            </details>\n",
       "            </div>\n",
       "        </div>\n",
       "        \n",
       "        <div style=\"margin-bottom: 20px;\">\n",
       "            <div style=\"width: 24px; height: 24px; background-color: #DBF5FF; border: 3px solid #4CC9FF; border-radius: 5px; position: absolute;\"> </div>\n",
       "            <div style=\"margin-left: 48px;\">\n",
       "            <details>\n",
       "                <summary>\n",
       "                    <h4 style=\"margin-bottom: 0px; display: inline;\">Worker: tcp://100.100.234.10:44607</h4>\n",
       "                </summary>\n",
       "                <table style=\"width: 100%; text-align: left;\">\n",
       "                    <tr>\n",
       "                        <td style=\"text-align: left;\">\n",
       "                            <strong>Comm: </strong> tcp://100.100.234.10:44607\n",
       "                        </td>\n",
       "                        <td style=\"text-align: left;\">\n",
       "                            <strong>Total threads: </strong> 192\n",
       "                        </td>\n",
       "                    </tr>\n",
       "                    <tr>\n",
       "                        <td style=\"text-align: left;\">\n",
       "                            <strong>Dashboard: </strong> <a href=\"http://100.100.234.10:38603/status\" target=\"_blank\">http://100.100.234.10:38603/status</a>\n",
       "                        </td>\n",
       "                        <td style=\"text-align: left;\">\n",
       "                            <strong>Memory: </strong> 335.21 GiB\n",
       "                        </td>\n",
       "                    </tr>\n",
       "                    <tr>\n",
       "                        <td style=\"text-align: left;\">\n",
       "                            <strong>Nanny: </strong> tcp://100.100.234.10:35341\n",
       "                        </td>\n",
       "                        <td style=\"text-align: left;\"></td>\n",
       "                    </tr>\n",
       "                    <tr>\n",
       "                        <td colspan=\"2\" style=\"text-align: left;\">\n",
       "                            <strong>Local directory: </strong> /tmp/dask-scratch-space/worker-n6a00s2a\n",
       "                        </td>\n",
       "                    </tr>\n",
       "\n",
       "                    \n",
       "\n",
       "                    \n",
       "                    <tr>\n",
       "                        <td style=\"text-align: left;\">\n",
       "                            <strong>Tasks executing: </strong> \n",
       "                        </td>\n",
       "                        <td style=\"text-align: left;\">\n",
       "                            <strong>Tasks in memory: </strong> \n",
       "                        </td>\n",
       "                    </tr>\n",
       "                    <tr>\n",
       "                        <td style=\"text-align: left;\">\n",
       "                            <strong>Tasks ready: </strong> \n",
       "                        </td>\n",
       "                        <td style=\"text-align: left;\">\n",
       "                            <strong>Tasks in flight: </strong>\n",
       "                        </td>\n",
       "                    </tr>\n",
       "                    <tr>\n",
       "                        <td style=\"text-align: left;\">\n",
       "                            <strong>CPU usage:</strong> 2.0%\n",
       "                        </td>\n",
       "                        <td style=\"text-align: left;\">\n",
       "                            <strong>Last seen: </strong> Just now\n",
       "                        </td>\n",
       "                    </tr>\n",
       "                    <tr>\n",
       "                        <td style=\"text-align: left;\">\n",
       "                            <strong>Memory usage: </strong> 138.66 MiB\n",
       "                        </td>\n",
       "                        <td style=\"text-align: left;\">\n",
       "                            <strong>Spilled bytes: </strong> 0 B\n",
       "                        </td>\n",
       "                    </tr>\n",
       "                    <tr>\n",
       "                        <td style=\"text-align: left;\">\n",
       "                            <strong>Read bytes: </strong> 2.16 kiB\n",
       "                        </td>\n",
       "                        <td style=\"text-align: left;\">\n",
       "                            <strong>Write bytes: </strong> 3.33 kiB\n",
       "                        </td>\n",
       "                    </tr>\n",
       "                    \n",
       "\n",
       "                </table>\n",
       "            </details>\n",
       "            </div>\n",
       "        </div>\n",
       "        \n",
       "        <div style=\"margin-bottom: 20px;\">\n",
       "            <div style=\"width: 24px; height: 24px; background-color: #DBF5FF; border: 3px solid #4CC9FF; border-radius: 5px; position: absolute;\"> </div>\n",
       "            <div style=\"margin-left: 48px;\">\n",
       "            <details>\n",
       "                <summary>\n",
       "                    <h4 style=\"margin-bottom: 0px; display: inline;\">Worker: tcp://100.100.234.11:36751</h4>\n",
       "                </summary>\n",
       "                <table style=\"width: 100%; text-align: left;\">\n",
       "                    <tr>\n",
       "                        <td style=\"text-align: left;\">\n",
       "                            <strong>Comm: </strong> tcp://100.100.234.11:36751\n",
       "                        </td>\n",
       "                        <td style=\"text-align: left;\">\n",
       "                            <strong>Total threads: </strong> 192\n",
       "                        </td>\n",
       "                    </tr>\n",
       "                    <tr>\n",
       "                        <td style=\"text-align: left;\">\n",
       "                            <strong>Dashboard: </strong> <a href=\"http://100.100.234.11:36825/status\" target=\"_blank\">http://100.100.234.11:36825/status</a>\n",
       "                        </td>\n",
       "                        <td style=\"text-align: left;\">\n",
       "                            <strong>Memory: </strong> 335.21 GiB\n",
       "                        </td>\n",
       "                    </tr>\n",
       "                    <tr>\n",
       "                        <td style=\"text-align: left;\">\n",
       "                            <strong>Nanny: </strong> tcp://100.100.234.11:40659\n",
       "                        </td>\n",
       "                        <td style=\"text-align: left;\"></td>\n",
       "                    </tr>\n",
       "                    <tr>\n",
       "                        <td colspan=\"2\" style=\"text-align: left;\">\n",
       "                            <strong>Local directory: </strong> /tmp/dask-scratch-space/worker-19pnur21\n",
       "                        </td>\n",
       "                    </tr>\n",
       "\n",
       "                    \n",
       "\n",
       "                    \n",
       "                    <tr>\n",
       "                        <td style=\"text-align: left;\">\n",
       "                            <strong>Tasks executing: </strong> \n",
       "                        </td>\n",
       "                        <td style=\"text-align: left;\">\n",
       "                            <strong>Tasks in memory: </strong> \n",
       "                        </td>\n",
       "                    </tr>\n",
       "                    <tr>\n",
       "                        <td style=\"text-align: left;\">\n",
       "                            <strong>Tasks ready: </strong> \n",
       "                        </td>\n",
       "                        <td style=\"text-align: left;\">\n",
       "                            <strong>Tasks in flight: </strong>\n",
       "                        </td>\n",
       "                    </tr>\n",
       "                    <tr>\n",
       "                        <td style=\"text-align: left;\">\n",
       "                            <strong>CPU usage:</strong> 2.0%\n",
       "                        </td>\n",
       "                        <td style=\"text-align: left;\">\n",
       "                            <strong>Last seen: </strong> Just now\n",
       "                        </td>\n",
       "                    </tr>\n",
       "                    <tr>\n",
       "                        <td style=\"text-align: left;\">\n",
       "                            <strong>Memory usage: </strong> 139.11 MiB\n",
       "                        </td>\n",
       "                        <td style=\"text-align: left;\">\n",
       "                            <strong>Spilled bytes: </strong> 0 B\n",
       "                        </td>\n",
       "                    </tr>\n",
       "                    <tr>\n",
       "                        <td style=\"text-align: left;\">\n",
       "                            <strong>Read bytes: </strong> 2.15 kiB\n",
       "                        </td>\n",
       "                        <td style=\"text-align: left;\">\n",
       "                            <strong>Write bytes: </strong> 3.31 kiB\n",
       "                        </td>\n",
       "                    </tr>\n",
       "                    \n",
       "\n",
       "                </table>\n",
       "            </details>\n",
       "            </div>\n",
       "        </div>\n",
       "        \n",
       "        <div style=\"margin-bottom: 20px;\">\n",
       "            <div style=\"width: 24px; height: 24px; background-color: #DBF5FF; border: 3px solid #4CC9FF; border-radius: 5px; position: absolute;\"> </div>\n",
       "            <div style=\"margin-left: 48px;\">\n",
       "            <details>\n",
       "                <summary>\n",
       "                    <h4 style=\"margin-bottom: 0px; display: inline;\">Worker: tcp://100.100.246.7:44777</h4>\n",
       "                </summary>\n",
       "                <table style=\"width: 100%; text-align: left;\">\n",
       "                    <tr>\n",
       "                        <td style=\"text-align: left;\">\n",
       "                            <strong>Comm: </strong> tcp://100.100.246.7:44777\n",
       "                        </td>\n",
       "                        <td style=\"text-align: left;\">\n",
       "                            <strong>Total threads: </strong> 192\n",
       "                        </td>\n",
       "                    </tr>\n",
       "                    <tr>\n",
       "                        <td style=\"text-align: left;\">\n",
       "                            <strong>Dashboard: </strong> <a href=\"http://100.100.246.7:43007/status\" target=\"_blank\">http://100.100.246.7:43007/status</a>\n",
       "                        </td>\n",
       "                        <td style=\"text-align: left;\">\n",
       "                            <strong>Memory: </strong> 335.21 GiB\n",
       "                        </td>\n",
       "                    </tr>\n",
       "                    <tr>\n",
       "                        <td style=\"text-align: left;\">\n",
       "                            <strong>Nanny: </strong> tcp://100.100.246.7:37933\n",
       "                        </td>\n",
       "                        <td style=\"text-align: left;\"></td>\n",
       "                    </tr>\n",
       "                    <tr>\n",
       "                        <td colspan=\"2\" style=\"text-align: left;\">\n",
       "                            <strong>Local directory: </strong> /tmp/dask-scratch-space/worker-caw3gl4q\n",
       "                        </td>\n",
       "                    </tr>\n",
       "\n",
       "                    \n",
       "\n",
       "                    \n",
       "                    <tr>\n",
       "                        <td style=\"text-align: left;\">\n",
       "                            <strong>Tasks executing: </strong> \n",
       "                        </td>\n",
       "                        <td style=\"text-align: left;\">\n",
       "                            <strong>Tasks in memory: </strong> \n",
       "                        </td>\n",
       "                    </tr>\n",
       "                    <tr>\n",
       "                        <td style=\"text-align: left;\">\n",
       "                            <strong>Tasks ready: </strong> \n",
       "                        </td>\n",
       "                        <td style=\"text-align: left;\">\n",
       "                            <strong>Tasks in flight: </strong>\n",
       "                        </td>\n",
       "                    </tr>\n",
       "                    <tr>\n",
       "                        <td style=\"text-align: left;\">\n",
       "                            <strong>CPU usage:</strong> 2.0%\n",
       "                        </td>\n",
       "                        <td style=\"text-align: left;\">\n",
       "                            <strong>Last seen: </strong> Just now\n",
       "                        </td>\n",
       "                    </tr>\n",
       "                    <tr>\n",
       "                        <td style=\"text-align: left;\">\n",
       "                            <strong>Memory usage: </strong> 138.25 MiB\n",
       "                        </td>\n",
       "                        <td style=\"text-align: left;\">\n",
       "                            <strong>Spilled bytes: </strong> 0 B\n",
       "                        </td>\n",
       "                    </tr>\n",
       "                    <tr>\n",
       "                        <td style=\"text-align: left;\">\n",
       "                            <strong>Read bytes: </strong> 2.16 kiB\n",
       "                        </td>\n",
       "                        <td style=\"text-align: left;\">\n",
       "                            <strong>Write bytes: </strong> 3.33 kiB\n",
       "                        </td>\n",
       "                    </tr>\n",
       "                    \n",
       "\n",
       "                </table>\n",
       "            </details>\n",
       "            </div>\n",
       "        </div>\n",
       "        \n",
       "        <div style=\"margin-bottom: 20px;\">\n",
       "            <div style=\"width: 24px; height: 24px; background-color: #DBF5FF; border: 3px solid #4CC9FF; border-radius: 5px; position: absolute;\"> </div>\n",
       "            <div style=\"margin-left: 48px;\">\n",
       "            <details>\n",
       "                <summary>\n",
       "                    <h4 style=\"margin-bottom: 0px; display: inline;\">Worker: tcp://100.100.249.75:33171</h4>\n",
       "                </summary>\n",
       "                <table style=\"width: 100%; text-align: left;\">\n",
       "                    <tr>\n",
       "                        <td style=\"text-align: left;\">\n",
       "                            <strong>Comm: </strong> tcp://100.100.249.75:33171\n",
       "                        </td>\n",
       "                        <td style=\"text-align: left;\">\n",
       "                            <strong>Total threads: </strong> 192\n",
       "                        </td>\n",
       "                    </tr>\n",
       "                    <tr>\n",
       "                        <td style=\"text-align: left;\">\n",
       "                            <strong>Dashboard: </strong> <a href=\"http://100.100.249.75:45755/status\" target=\"_blank\">http://100.100.249.75:45755/status</a>\n",
       "                        </td>\n",
       "                        <td style=\"text-align: left;\">\n",
       "                            <strong>Memory: </strong> 335.21 GiB\n",
       "                        </td>\n",
       "                    </tr>\n",
       "                    <tr>\n",
       "                        <td style=\"text-align: left;\">\n",
       "                            <strong>Nanny: </strong> tcp://100.100.249.75:43667\n",
       "                        </td>\n",
       "                        <td style=\"text-align: left;\"></td>\n",
       "                    </tr>\n",
       "                    <tr>\n",
       "                        <td colspan=\"2\" style=\"text-align: left;\">\n",
       "                            <strong>Local directory: </strong> /tmp/dask-scratch-space/worker-egcb6pvc\n",
       "                        </td>\n",
       "                    </tr>\n",
       "\n",
       "                    \n",
       "\n",
       "                    \n",
       "                    <tr>\n",
       "                        <td style=\"text-align: left;\">\n",
       "                            <strong>Tasks executing: </strong> \n",
       "                        </td>\n",
       "                        <td style=\"text-align: left;\">\n",
       "                            <strong>Tasks in memory: </strong> \n",
       "                        </td>\n",
       "                    </tr>\n",
       "                    <tr>\n",
       "                        <td style=\"text-align: left;\">\n",
       "                            <strong>Tasks ready: </strong> \n",
       "                        </td>\n",
       "                        <td style=\"text-align: left;\">\n",
       "                            <strong>Tasks in flight: </strong>\n",
       "                        </td>\n",
       "                    </tr>\n",
       "                    <tr>\n",
       "                        <td style=\"text-align: left;\">\n",
       "                            <strong>CPU usage:</strong> 4.0%\n",
       "                        </td>\n",
       "                        <td style=\"text-align: left;\">\n",
       "                            <strong>Last seen: </strong> Just now\n",
       "                        </td>\n",
       "                    </tr>\n",
       "                    <tr>\n",
       "                        <td style=\"text-align: left;\">\n",
       "                            <strong>Memory usage: </strong> 139.41 MiB\n",
       "                        </td>\n",
       "                        <td style=\"text-align: left;\">\n",
       "                            <strong>Spilled bytes: </strong> 0 B\n",
       "                        </td>\n",
       "                    </tr>\n",
       "                    <tr>\n",
       "                        <td style=\"text-align: left;\">\n",
       "                            <strong>Read bytes: </strong> 285.3169762666784 B\n",
       "                        </td>\n",
       "                        <td style=\"text-align: left;\">\n",
       "                            <strong>Write bytes: </strong> 1.45 kiB\n",
       "                        </td>\n",
       "                    </tr>\n",
       "                    \n",
       "\n",
       "                </table>\n",
       "            </details>\n",
       "            </div>\n",
       "        </div>\n",
       "        \n",
       "        <div style=\"margin-bottom: 20px;\">\n",
       "            <div style=\"width: 24px; height: 24px; background-color: #DBF5FF; border: 3px solid #4CC9FF; border-radius: 5px; position: absolute;\"> </div>\n",
       "            <div style=\"margin-left: 48px;\">\n",
       "            <details>\n",
       "                <summary>\n",
       "                    <h4 style=\"margin-bottom: 0px; display: inline;\">Worker: tcp://100.100.60.101:37885</h4>\n",
       "                </summary>\n",
       "                <table style=\"width: 100%; text-align: left;\">\n",
       "                    <tr>\n",
       "                        <td style=\"text-align: left;\">\n",
       "                            <strong>Comm: </strong> tcp://100.100.60.101:37885\n",
       "                        </td>\n",
       "                        <td style=\"text-align: left;\">\n",
       "                            <strong>Total threads: </strong> 192\n",
       "                        </td>\n",
       "                    </tr>\n",
       "                    <tr>\n",
       "                        <td style=\"text-align: left;\">\n",
       "                            <strong>Dashboard: </strong> <a href=\"http://100.100.60.101:42099/status\" target=\"_blank\">http://100.100.60.101:42099/status</a>\n",
       "                        </td>\n",
       "                        <td style=\"text-align: left;\">\n",
       "                            <strong>Memory: </strong> 335.21 GiB\n",
       "                        </td>\n",
       "                    </tr>\n",
       "                    <tr>\n",
       "                        <td style=\"text-align: left;\">\n",
       "                            <strong>Nanny: </strong> tcp://100.100.60.101:35537\n",
       "                        </td>\n",
       "                        <td style=\"text-align: left;\"></td>\n",
       "                    </tr>\n",
       "                    <tr>\n",
       "                        <td colspan=\"2\" style=\"text-align: left;\">\n",
       "                            <strong>Local directory: </strong> /tmp/dask-scratch-space/worker-4kvdlgz3\n",
       "                        </td>\n",
       "                    </tr>\n",
       "\n",
       "                    \n",
       "\n",
       "                    \n",
       "                    <tr>\n",
       "                        <td style=\"text-align: left;\">\n",
       "                            <strong>Tasks executing: </strong> \n",
       "                        </td>\n",
       "                        <td style=\"text-align: left;\">\n",
       "                            <strong>Tasks in memory: </strong> \n",
       "                        </td>\n",
       "                    </tr>\n",
       "                    <tr>\n",
       "                        <td style=\"text-align: left;\">\n",
       "                            <strong>Tasks ready: </strong> \n",
       "                        </td>\n",
       "                        <td style=\"text-align: left;\">\n",
       "                            <strong>Tasks in flight: </strong>\n",
       "                        </td>\n",
       "                    </tr>\n",
       "                    <tr>\n",
       "                        <td style=\"text-align: left;\">\n",
       "                            <strong>CPU usage:</strong> 2.0%\n",
       "                        </td>\n",
       "                        <td style=\"text-align: left;\">\n",
       "                            <strong>Last seen: </strong> Just now\n",
       "                        </td>\n",
       "                    </tr>\n",
       "                    <tr>\n",
       "                        <td style=\"text-align: left;\">\n",
       "                            <strong>Memory usage: </strong> 139.54 MiB\n",
       "                        </td>\n",
       "                        <td style=\"text-align: left;\">\n",
       "                            <strong>Spilled bytes: </strong> 0 B\n",
       "                        </td>\n",
       "                    </tr>\n",
       "                    <tr>\n",
       "                        <td style=\"text-align: left;\">\n",
       "                            <strong>Read bytes: </strong> 2.15 kiB\n",
       "                        </td>\n",
       "                        <td style=\"text-align: left;\">\n",
       "                            <strong>Write bytes: </strong> 3.32 kiB\n",
       "                        </td>\n",
       "                    </tr>\n",
       "                    \n",
       "\n",
       "                </table>\n",
       "            </details>\n",
       "            </div>\n",
       "        </div>\n",
       "        \n",
       "        <div style=\"margin-bottom: 20px;\">\n",
       "            <div style=\"width: 24px; height: 24px; background-color: #DBF5FF; border: 3px solid #4CC9FF; border-radius: 5px; position: absolute;\"> </div>\n",
       "            <div style=\"margin-left: 48px;\">\n",
       "            <details>\n",
       "                <summary>\n",
       "                    <h4 style=\"margin-bottom: 0px; display: inline;\">Worker: tcp://100.100.60.102:43623</h4>\n",
       "                </summary>\n",
       "                <table style=\"width: 100%; text-align: left;\">\n",
       "                    <tr>\n",
       "                        <td style=\"text-align: left;\">\n",
       "                            <strong>Comm: </strong> tcp://100.100.60.102:43623\n",
       "                        </td>\n",
       "                        <td style=\"text-align: left;\">\n",
       "                            <strong>Total threads: </strong> 192\n",
       "                        </td>\n",
       "                    </tr>\n",
       "                    <tr>\n",
       "                        <td style=\"text-align: left;\">\n",
       "                            <strong>Dashboard: </strong> <a href=\"http://100.100.60.102:44935/status\" target=\"_blank\">http://100.100.60.102:44935/status</a>\n",
       "                        </td>\n",
       "                        <td style=\"text-align: left;\">\n",
       "                            <strong>Memory: </strong> 335.21 GiB\n",
       "                        </td>\n",
       "                    </tr>\n",
       "                    <tr>\n",
       "                        <td style=\"text-align: left;\">\n",
       "                            <strong>Nanny: </strong> tcp://100.100.60.102:39497\n",
       "                        </td>\n",
       "                        <td style=\"text-align: left;\"></td>\n",
       "                    </tr>\n",
       "                    <tr>\n",
       "                        <td colspan=\"2\" style=\"text-align: left;\">\n",
       "                            <strong>Local directory: </strong> /tmp/dask-scratch-space/worker-3vrd6yhx\n",
       "                        </td>\n",
       "                    </tr>\n",
       "\n",
       "                    \n",
       "\n",
       "                    \n",
       "                    <tr>\n",
       "                        <td style=\"text-align: left;\">\n",
       "                            <strong>Tasks executing: </strong> \n",
       "                        </td>\n",
       "                        <td style=\"text-align: left;\">\n",
       "                            <strong>Tasks in memory: </strong> \n",
       "                        </td>\n",
       "                    </tr>\n",
       "                    <tr>\n",
       "                        <td style=\"text-align: left;\">\n",
       "                            <strong>Tasks ready: </strong> \n",
       "                        </td>\n",
       "                        <td style=\"text-align: left;\">\n",
       "                            <strong>Tasks in flight: </strong>\n",
       "                        </td>\n",
       "                    </tr>\n",
       "                    <tr>\n",
       "                        <td style=\"text-align: left;\">\n",
       "                            <strong>CPU usage:</strong> 0.0%\n",
       "                        </td>\n",
       "                        <td style=\"text-align: left;\">\n",
       "                            <strong>Last seen: </strong> Just now\n",
       "                        </td>\n",
       "                    </tr>\n",
       "                    <tr>\n",
       "                        <td style=\"text-align: left;\">\n",
       "                            <strong>Memory usage: </strong> 139.30 MiB\n",
       "                        </td>\n",
       "                        <td style=\"text-align: left;\">\n",
       "                            <strong>Spilled bytes: </strong> 0 B\n",
       "                        </td>\n",
       "                    </tr>\n",
       "                    <tr>\n",
       "                        <td style=\"text-align: left;\">\n",
       "                            <strong>Read bytes: </strong> 2.15 kiB\n",
       "                        </td>\n",
       "                        <td style=\"text-align: left;\">\n",
       "                            <strong>Write bytes: </strong> 3.32 kiB\n",
       "                        </td>\n",
       "                    </tr>\n",
       "                    \n",
       "\n",
       "                </table>\n",
       "            </details>\n",
       "            </div>\n",
       "        </div>\n",
       "        \n",
       "        <div style=\"margin-bottom: 20px;\">\n",
       "            <div style=\"width: 24px; height: 24px; background-color: #DBF5FF; border: 3px solid #4CC9FF; border-radius: 5px; position: absolute;\"> </div>\n",
       "            <div style=\"margin-left: 48px;\">\n",
       "            <details>\n",
       "                <summary>\n",
       "                    <h4 style=\"margin-bottom: 0px; display: inline;\">Worker: tcp://100.100.79.11:46327</h4>\n",
       "                </summary>\n",
       "                <table style=\"width: 100%; text-align: left;\">\n",
       "                    <tr>\n",
       "                        <td style=\"text-align: left;\">\n",
       "                            <strong>Comm: </strong> tcp://100.100.79.11:46327\n",
       "                        </td>\n",
       "                        <td style=\"text-align: left;\">\n",
       "                            <strong>Total threads: </strong> 192\n",
       "                        </td>\n",
       "                    </tr>\n",
       "                    <tr>\n",
       "                        <td style=\"text-align: left;\">\n",
       "                            <strong>Dashboard: </strong> <a href=\"http://100.100.79.11:38171/status\" target=\"_blank\">http://100.100.79.11:38171/status</a>\n",
       "                        </td>\n",
       "                        <td style=\"text-align: left;\">\n",
       "                            <strong>Memory: </strong> 335.21 GiB\n",
       "                        </td>\n",
       "                    </tr>\n",
       "                    <tr>\n",
       "                        <td style=\"text-align: left;\">\n",
       "                            <strong>Nanny: </strong> tcp://100.100.79.11:45351\n",
       "                        </td>\n",
       "                        <td style=\"text-align: left;\"></td>\n",
       "                    </tr>\n",
       "                    <tr>\n",
       "                        <td colspan=\"2\" style=\"text-align: left;\">\n",
       "                            <strong>Local directory: </strong> /tmp/dask-scratch-space/worker-g71k2rij\n",
       "                        </td>\n",
       "                    </tr>\n",
       "\n",
       "                    \n",
       "\n",
       "                    \n",
       "                    <tr>\n",
       "                        <td style=\"text-align: left;\">\n",
       "                            <strong>Tasks executing: </strong> \n",
       "                        </td>\n",
       "                        <td style=\"text-align: left;\">\n",
       "                            <strong>Tasks in memory: </strong> \n",
       "                        </td>\n",
       "                    </tr>\n",
       "                    <tr>\n",
       "                        <td style=\"text-align: left;\">\n",
       "                            <strong>Tasks ready: </strong> \n",
       "                        </td>\n",
       "                        <td style=\"text-align: left;\">\n",
       "                            <strong>Tasks in flight: </strong>\n",
       "                        </td>\n",
       "                    </tr>\n",
       "                    <tr>\n",
       "                        <td style=\"text-align: left;\">\n",
       "                            <strong>CPU usage:</strong> 2.0%\n",
       "                        </td>\n",
       "                        <td style=\"text-align: left;\">\n",
       "                            <strong>Last seen: </strong> Just now\n",
       "                        </td>\n",
       "                    </tr>\n",
       "                    <tr>\n",
       "                        <td style=\"text-align: left;\">\n",
       "                            <strong>Memory usage: </strong> 138.69 MiB\n",
       "                        </td>\n",
       "                        <td style=\"text-align: left;\">\n",
       "                            <strong>Spilled bytes: </strong> 0 B\n",
       "                        </td>\n",
       "                    </tr>\n",
       "                    <tr>\n",
       "                        <td style=\"text-align: left;\">\n",
       "                            <strong>Read bytes: </strong> 286.07539917659625 B\n",
       "                        </td>\n",
       "                        <td style=\"text-align: left;\">\n",
       "                            <strong>Write bytes: </strong> 1.45 kiB\n",
       "                        </td>\n",
       "                    </tr>\n",
       "                    \n",
       "\n",
       "                </table>\n",
       "            </details>\n",
       "            </div>\n",
       "        </div>\n",
       "        \n",
       "        <div style=\"margin-bottom: 20px;\">\n",
       "            <div style=\"width: 24px; height: 24px; background-color: #DBF5FF; border: 3px solid #4CC9FF; border-radius: 5px; position: absolute;\"> </div>\n",
       "            <div style=\"margin-left: 48px;\">\n",
       "            <details>\n",
       "                <summary>\n",
       "                    <h4 style=\"margin-bottom: 0px; display: inline;\">Worker: tcp://100.100.79.12:37337</h4>\n",
       "                </summary>\n",
       "                <table style=\"width: 100%; text-align: left;\">\n",
       "                    <tr>\n",
       "                        <td style=\"text-align: left;\">\n",
       "                            <strong>Comm: </strong> tcp://100.100.79.12:37337\n",
       "                        </td>\n",
       "                        <td style=\"text-align: left;\">\n",
       "                            <strong>Total threads: </strong> 192\n",
       "                        </td>\n",
       "                    </tr>\n",
       "                    <tr>\n",
       "                        <td style=\"text-align: left;\">\n",
       "                            <strong>Dashboard: </strong> <a href=\"http://100.100.79.12:33509/status\" target=\"_blank\">http://100.100.79.12:33509/status</a>\n",
       "                        </td>\n",
       "                        <td style=\"text-align: left;\">\n",
       "                            <strong>Memory: </strong> 335.21 GiB\n",
       "                        </td>\n",
       "                    </tr>\n",
       "                    <tr>\n",
       "                        <td style=\"text-align: left;\">\n",
       "                            <strong>Nanny: </strong> tcp://100.100.79.12:43191\n",
       "                        </td>\n",
       "                        <td style=\"text-align: left;\"></td>\n",
       "                    </tr>\n",
       "                    <tr>\n",
       "                        <td colspan=\"2\" style=\"text-align: left;\">\n",
       "                            <strong>Local directory: </strong> /tmp/dask-scratch-space/worker-y0ahtybw\n",
       "                        </td>\n",
       "                    </tr>\n",
       "\n",
       "                    \n",
       "\n",
       "                    \n",
       "                    <tr>\n",
       "                        <td style=\"text-align: left;\">\n",
       "                            <strong>Tasks executing: </strong> \n",
       "                        </td>\n",
       "                        <td style=\"text-align: left;\">\n",
       "                            <strong>Tasks in memory: </strong> \n",
       "                        </td>\n",
       "                    </tr>\n",
       "                    <tr>\n",
       "                        <td style=\"text-align: left;\">\n",
       "                            <strong>Tasks ready: </strong> \n",
       "                        </td>\n",
       "                        <td style=\"text-align: left;\">\n",
       "                            <strong>Tasks in flight: </strong>\n",
       "                        </td>\n",
       "                    </tr>\n",
       "                    <tr>\n",
       "                        <td style=\"text-align: left;\">\n",
       "                            <strong>CPU usage:</strong> 2.0%\n",
       "                        </td>\n",
       "                        <td style=\"text-align: left;\">\n",
       "                            <strong>Last seen: </strong> Just now\n",
       "                        </td>\n",
       "                    </tr>\n",
       "                    <tr>\n",
       "                        <td style=\"text-align: left;\">\n",
       "                            <strong>Memory usage: </strong> 139.04 MiB\n",
       "                        </td>\n",
       "                        <td style=\"text-align: left;\">\n",
       "                            <strong>Spilled bytes: </strong> 0 B\n",
       "                        </td>\n",
       "                    </tr>\n",
       "                    <tr>\n",
       "                        <td style=\"text-align: left;\">\n",
       "                            <strong>Read bytes: </strong> 2.16 kiB\n",
       "                        </td>\n",
       "                        <td style=\"text-align: left;\">\n",
       "                            <strong>Write bytes: </strong> 3.32 kiB\n",
       "                        </td>\n",
       "                    </tr>\n",
       "                    \n",
       "\n",
       "                </table>\n",
       "            </details>\n",
       "            </div>\n",
       "        </div>\n",
       "        \n",
       "\n",
       "    </details>\n",
       "</div>\n",
       "            </details>\n",
       "        \n",
       "\n",
       "    </div>\n",
       "</div>"
      ],
      "text/plain": [
       "<Client: 'tcp://100.100.219.139:8786' processes=10 threads=1920, memory=3.27 TiB>"
      ]
     },
     "execution_count": 4,
     "metadata": {},
     "output_type": "execute_result"
    }
   ],
   "source": [
    "from dask.distributed import Client\n",
    "client = Client('tcp://100.100.219.139:8786')\n",
    "\n",
    "client"
   ]
  },
  {
   "cell_type": "markdown",
   "id": "b42c0142-6fc2-4f07-a66b-d1f2ed5347a5",
   "metadata": {},
   "source": [
    "## Read Parquet from S3"
   ]
  },
  {
   "cell_type": "code",
   "execution_count": 5,
   "id": "2d238cfd-50fb-41f7-b863-dad5ba3703d7",
   "metadata": {
    "tags": []
   },
   "outputs": [
    {
     "data": {
      "text/html": [
       "<div>\n",
       "<style scoped>\n",
       "    .dataframe tbody tr th:only-of-type {\n",
       "        vertical-align: middle;\n",
       "    }\n",
       "\n",
       "    .dataframe tbody tr th {\n",
       "        vertical-align: top;\n",
       "    }\n",
       "\n",
       "    .dataframe thead th {\n",
       "        text-align: right;\n",
       "    }\n",
       "</style>\n",
       "<table border=\"1\" class=\"dataframe\">\n",
       "  <thead>\n",
       "    <tr style=\"text-align: right;\">\n",
       "      <th></th>\n",
       "      <th>col1</th>\n",
       "      <th>col2</th>\n",
       "      <th>col3</th>\n",
       "      <th>col4</th>\n",
       "      <th>col5</th>\n",
       "      <th>col6</th>\n",
       "      <th>col7</th>\n",
       "      <th>col8</th>\n",
       "      <th>col9</th>\n",
       "      <th>col10</th>\n",
       "      <th>...</th>\n",
       "      <th>col9990</th>\n",
       "      <th>col9991</th>\n",
       "      <th>col9992</th>\n",
       "      <th>col9993</th>\n",
       "      <th>col9994</th>\n",
       "      <th>col9995</th>\n",
       "      <th>col9996</th>\n",
       "      <th>col9997</th>\n",
       "      <th>col9998</th>\n",
       "      <th>col9999</th>\n",
       "    </tr>\n",
       "  </thead>\n",
       "  <tbody>\n",
       "    <tr>\n",
       "      <th>0</th>\n",
       "      <td>A</td>\n",
       "      <td>2155749.0</td>\n",
       "      <td>2162552.0</td>\n",
       "      <td>8879422.0</td>\n",
       "      <td>3592760.0</td>\n",
       "      <td>6260197.0</td>\n",
       "      <td>4380193.0</td>\n",
       "      <td>649749.0</td>\n",
       "      <td>8567364.0</td>\n",
       "      <td>7842953.0</td>\n",
       "      <td>...</td>\n",
       "      <td>8791386.0</td>\n",
       "      <td>7131687.0</td>\n",
       "      <td>3073450.0</td>\n",
       "      <td>6205936.0</td>\n",
       "      <td>8928314.0</td>\n",
       "      <td>6583948.0</td>\n",
       "      <td>796539.0</td>\n",
       "      <td>704542.0</td>\n",
       "      <td>5869669.0</td>\n",
       "      <td>2844541.0</td>\n",
       "    </tr>\n",
       "    <tr>\n",
       "      <th>1</th>\n",
       "      <td>B</td>\n",
       "      <td>1461406.0</td>\n",
       "      <td>6489945.0</td>\n",
       "      <td>1028377.0</td>\n",
       "      <td>252657.0</td>\n",
       "      <td>7100934.0</td>\n",
       "      <td>1732775.0</td>\n",
       "      <td>9956641.0</td>\n",
       "      <td>3115993.0</td>\n",
       "      <td>4463726.0</td>\n",
       "      <td>...</td>\n",
       "      <td>4568265.0</td>\n",
       "      <td>2932271.0</td>\n",
       "      <td>7233633.0</td>\n",
       "      <td>4212719.0</td>\n",
       "      <td>8254713.0</td>\n",
       "      <td>9958355.0</td>\n",
       "      <td>4085747.0</td>\n",
       "      <td>2868795.0</td>\n",
       "      <td>7255552.0</td>\n",
       "      <td>4432626.0</td>\n",
       "    </tr>\n",
       "    <tr>\n",
       "      <th>2</th>\n",
       "      <td>C</td>\n",
       "      <td>1327473.0</td>\n",
       "      <td>8855601.0</td>\n",
       "      <td>9027891.0</td>\n",
       "      <td>6230956.0</td>\n",
       "      <td>3983144.0</td>\n",
       "      <td>1449433.0</td>\n",
       "      <td>3296800.0</td>\n",
       "      <td>4257279.0</td>\n",
       "      <td>8776295.0</td>\n",
       "      <td>...</td>\n",
       "      <td>4033020.0</td>\n",
       "      <td>9059617.0</td>\n",
       "      <td>4739562.0</td>\n",
       "      <td>1724006.0</td>\n",
       "      <td>3691998.0</td>\n",
       "      <td>7474958.0</td>\n",
       "      <td>2359813.0</td>\n",
       "      <td>1789445.0</td>\n",
       "      <td>4224895.0</td>\n",
       "      <td>4994013.0</td>\n",
       "    </tr>\n",
       "    <tr>\n",
       "      <th>3</th>\n",
       "      <td>D</td>\n",
       "      <td>4750508.0</td>\n",
       "      <td>7597960.0</td>\n",
       "      <td>6513623.0</td>\n",
       "      <td>2545998.0</td>\n",
       "      <td>252819.0</td>\n",
       "      <td>8349154.0</td>\n",
       "      <td>8894517.0</td>\n",
       "      <td>6153052.0</td>\n",
       "      <td>2255401.0</td>\n",
       "      <td>...</td>\n",
       "      <td>2636969.0</td>\n",
       "      <td>3686812.0</td>\n",
       "      <td>2764838.0</td>\n",
       "      <td>570953.0</td>\n",
       "      <td>7414366.0</td>\n",
       "      <td>1492267.0</td>\n",
       "      <td>3544097.0</td>\n",
       "      <td>9573390.0</td>\n",
       "      <td>4342891.0</td>\n",
       "      <td>2768177.0</td>\n",
       "    </tr>\n",
       "    <tr>\n",
       "      <th>4</th>\n",
       "      <td>E</td>\n",
       "      <td>7268317.0</td>\n",
       "      <td>6482051.0</td>\n",
       "      <td>8168993.0</td>\n",
       "      <td>7054196.0</td>\n",
       "      <td>3747121.0</td>\n",
       "      <td>6873729.0</td>\n",
       "      <td>2527835.0</td>\n",
       "      <td>1162200.0</td>\n",
       "      <td>2718198.0</td>\n",
       "      <td>...</td>\n",
       "      <td>9561350.0</td>\n",
       "      <td>6701099.0</td>\n",
       "      <td>6449186.0</td>\n",
       "      <td>9719908.0</td>\n",
       "      <td>6537810.0</td>\n",
       "      <td>9959078.0</td>\n",
       "      <td>5823777.0</td>\n",
       "      <td>3433689.0</td>\n",
       "      <td>6322195.0</td>\n",
       "      <td>7372708.0</td>\n",
       "    </tr>\n",
       "  </tbody>\n",
       "</table>\n",
       "<p>5 rows × 9999 columns</p>\n",
       "</div>"
      ],
      "text/plain": [
       "  col1       col2       col3       col4       col5       col6       col7  \\\n",
       "0    A  2155749.0  2162552.0  8879422.0  3592760.0  6260197.0  4380193.0   \n",
       "1    B  1461406.0  6489945.0  1028377.0   252657.0  7100934.0  1732775.0   \n",
       "2    C  1327473.0  8855601.0  9027891.0  6230956.0  3983144.0  1449433.0   \n",
       "3    D  4750508.0  7597960.0  6513623.0  2545998.0   252819.0  8349154.0   \n",
       "4    E  7268317.0  6482051.0  8168993.0  7054196.0  3747121.0  6873729.0   \n",
       "\n",
       "        col8       col9      col10  ...    col9990    col9991    col9992  \\\n",
       "0   649749.0  8567364.0  7842953.0  ...  8791386.0  7131687.0  3073450.0   \n",
       "1  9956641.0  3115993.0  4463726.0  ...  4568265.0  2932271.0  7233633.0   \n",
       "2  3296800.0  4257279.0  8776295.0  ...  4033020.0  9059617.0  4739562.0   \n",
       "3  8894517.0  6153052.0  2255401.0  ...  2636969.0  3686812.0  2764838.0   \n",
       "4  2527835.0  1162200.0  2718198.0  ...  9561350.0  6701099.0  6449186.0   \n",
       "\n",
       "     col9993    col9994    col9995    col9996    col9997    col9998    col9999  \n",
       "0  6205936.0  8928314.0  6583948.0   796539.0   704542.0  5869669.0  2844541.0  \n",
       "1  4212719.0  8254713.0  9958355.0  4085747.0  2868795.0  7255552.0  4432626.0  \n",
       "2  1724006.0  3691998.0  7474958.0  2359813.0  1789445.0  4224895.0  4994013.0  \n",
       "3   570953.0  7414366.0  1492267.0  3544097.0  9573390.0  4342891.0  2768177.0  \n",
       "4  9719908.0  6537810.0  9959078.0  5823777.0  3433689.0  6322195.0  7372708.0  \n",
       "\n",
       "[5 rows x 9999 columns]"
      ]
     },
     "execution_count": 5,
     "metadata": {},
     "output_type": "execute_result"
    }
   ],
   "source": [
    "import os\n",
    "import dask.dataframe as dd\n",
    "\n",
    "df = dd.read_parquet(\"s3://paul-aug26-buk-a3c2b50a/data/pdefusco/modin/10kcols_100parts\")\n",
    "df.head()"
   ]
  },
  {
   "cell_type": "code",
   "execution_count": 6,
   "id": "bc4f9829-77e4-4dbf-9ac6-2d3b02482f57",
   "metadata": {
    "tags": []
   },
   "outputs": [
    {
     "data": {
      "text/html": [
       "<div>\n",
       "<style scoped>\n",
       "    .dataframe tbody tr th:only-of-type {\n",
       "        vertical-align: middle;\n",
       "    }\n",
       "\n",
       "    .dataframe tbody tr th {\n",
       "        vertical-align: top;\n",
       "    }\n",
       "\n",
       "    .dataframe thead th {\n",
       "        text-align: right;\n",
       "    }\n",
       "</style>\n",
       "<table border=\"1\" class=\"dataframe\">\n",
       "  <thead>\n",
       "    <tr style=\"text-align: right;\">\n",
       "      <th></th>\n",
       "      <th>col1</th>\n",
       "      <th>col2</th>\n",
       "      <th>col3</th>\n",
       "      <th>col4</th>\n",
       "      <th>col5</th>\n",
       "      <th>col6</th>\n",
       "      <th>col7</th>\n",
       "      <th>col8</th>\n",
       "      <th>col9</th>\n",
       "      <th>col10</th>\n",
       "      <th>...</th>\n",
       "      <th>col9990</th>\n",
       "      <th>col9991</th>\n",
       "      <th>col9992</th>\n",
       "      <th>col9993</th>\n",
       "      <th>col9994</th>\n",
       "      <th>col9995</th>\n",
       "      <th>col9996</th>\n",
       "      <th>col9997</th>\n",
       "      <th>col9998</th>\n",
       "      <th>col9999</th>\n",
       "    </tr>\n",
       "  </thead>\n",
       "  <tbody>\n",
       "  </tbody>\n",
       "</table>\n",
       "<p>0 rows × 9999 columns</p>\n",
       "</div>"
      ],
      "text/plain": [
       "Empty DataFrame\n",
       "Columns: [col1, col2, col3, col4, col5, col6, col7, col8, col9, col10, col11, col12, col13, col14, col15, col16, col17, col18, col19, col20, col21, col22, col23, col24, col25, col26, col27, col28, col29, col30, col31, col32, col33, col34, col35, col36, col37, col38, col39, col40, col41, col42, col43, col44, col45, col46, col47, col48, col49, col50, col51, col52, col53, col54, col55, col56, col57, col58, col59, col60, col61, col62, col63, col64, col65, col66, col67, col68, col69, col70, col71, col72, col73, col74, col75, col76, col77, col78, col79, col80, col81, col82, col83, col84, col85, col86, col87, col88, col89, col90, col91, col92, col93, col94, col95, col96, col97, col98, col99, col100, ...]\n",
       "Index: []\n",
       "\n",
       "[0 rows x 9999 columns]"
      ]
     },
     "execution_count": 6,
     "metadata": {},
     "output_type": "execute_result"
    }
   ],
   "source": [
    "df._meta"
   ]
  },
  {
   "cell_type": "code",
   "execution_count": 7,
   "id": "885f7d17-39e3-40eb-8b05-bdec280578e5",
   "metadata": {
    "tags": []
   },
   "outputs": [
    {
     "data": {
      "text/plain": [
       "100"
      ]
     },
     "execution_count": 7,
     "metadata": {},
     "output_type": "execute_result"
    }
   ],
   "source": [
    "df.npartitions"
   ]
  },
  {
   "cell_type": "code",
   "execution_count": 8,
   "id": "a9cfbd7a-1ae8-4265-a51d-0e0c840bb051",
   "metadata": {
    "tags": []
   },
   "outputs": [],
   "source": [
    "#df.optimize().pprint()"
   ]
  },
  {
   "cell_type": "markdown",
   "id": "3f798002-839b-410f-b8d2-c791a0a1b7a3",
   "metadata": {},
   "source": [
    "### Dataframe Operations"
   ]
  },
  {
   "cell_type": "code",
   "execution_count": 9,
   "id": "779320b4-72d5-464c-8c81-72cc9e1f1654",
   "metadata": {
    "tags": []
   },
   "outputs": [
    {
     "name": "stdout",
     "output_type": "stream",
     "text": [
      "time taken: 530.4419133663177\n"
     ]
    }
   ],
   "source": [
    "start_time = time.time()\n",
    "df.groupby(\"col1\").mean().compute()\n",
    "print(f\"time taken: {time.time() - start_time}\")"
   ]
  },
  {
   "cell_type": "code",
   "execution_count": 10,
   "id": "470f3e98-db17-4942-8ff2-40164131b219",
   "metadata": {
    "tags": []
   },
   "outputs": [
    {
     "name": "stdout",
     "output_type": "stream",
     "text": [
      "time taken: 70.52406239509583\n"
     ]
    }
   ],
   "source": [
    "start_time = time.time()\n",
    "df.groupby(\"col1\").sum().compute()\n",
    "print(f\"time taken: {time.time() - start_time}\")"
   ]
  },
  {
   "cell_type": "markdown",
   "id": "969e23c5-79a4-4677-b84b-b59d1a0ec5b4",
   "metadata": {},
   "source": [
    "### Concat"
   ]
  },
  {
   "cell_type": "code",
   "execution_count": 6,
   "id": "2611bd29-6310-41b3-bcb5-94a92debf515",
   "metadata": {
    "tags": []
   },
   "outputs": [],
   "source": [
    "df2 = dd.read_parquet(\"s3://paul-aug26-buk-a3c2b50a/data/pdefusco/modin/10kcols_100parts\")"
   ]
  },
  {
   "cell_type": "code",
   "execution_count": 12,
   "id": "9c27c757-154c-4cb2-b182-738b825d5385",
   "metadata": {
    "tags": []
   },
   "outputs": [],
   "source": [
    "df3 = dd.concat([df,df2],axis=0)"
   ]
  },
  {
   "cell_type": "code",
   "execution_count": 13,
   "id": "6a1b782e-4e39-42a0-95d5-65a6e65dc6ff",
   "metadata": {
    "tags": []
   },
   "outputs": [
    {
     "name": "stdout",
     "output_type": "stream",
     "text": [
      "time taken: 196.21458530426025\n"
     ]
    }
   ],
   "source": [
    "start_time = time.time()\n",
    "df3.groupby(\"col1\").mean().compute()\n",
    "print(f\"time taken: {time.time() - start_time}\")"
   ]
  },
  {
   "cell_type": "code",
   "execution_count": 7,
   "id": "9936d834-b4a8-43ee-837b-5803039ab7d8",
   "metadata": {
    "tags": []
   },
   "outputs": [],
   "source": [
    "df4 = dd.read_parquet(\"s3://paul-aug26-buk-a3c2b50a/data/pdefusco/modin/10kcols_100parts\")"
   ]
  },
  {
   "cell_type": "code",
   "execution_count": 8,
   "id": "6eee09a7-4193-4413-b645-7c8885d5b66c",
   "metadata": {
    "tags": []
   },
   "outputs": [],
   "source": [
    "df5 = dd.read_parquet(\"s3://paul-aug26-buk-a3c2b50a/data/pdefusco/modin/10kcols_100parts\")"
   ]
  },
  {
   "cell_type": "code",
   "execution_count": 9,
   "id": "a5bb1c8d-7643-4361-bf36-7d0633405911",
   "metadata": {
    "tags": []
   },
   "outputs": [],
   "source": [
    "df6 = dd.read_parquet(\"s3://paul-aug26-buk-a3c2b50a/data/pdefusco/modin/10kcols_100parts\")"
   ]
  },
  {
   "cell_type": "code",
   "execution_count": 10,
   "id": "e3662bec-95a9-4d2e-82a7-cc91f2f20dcb",
   "metadata": {
    "tags": []
   },
   "outputs": [],
   "source": [
    "df7 = dd.read_parquet(\"s3://paul-aug26-buk-a3c2b50a/data/pdefusco/modin/10kcols_100parts\")"
   ]
  },
  {
   "cell_type": "code",
   "execution_count": 11,
   "id": "d9ebfd53-28b1-41c4-9c37-08a21f3b92af",
   "metadata": {
    "tags": []
   },
   "outputs": [],
   "source": [
    "df8 = dd.read_parquet(\"s3://paul-aug26-buk-a3c2b50a/data/pdefusco/modin/10kcols_100parts\")"
   ]
  },
  {
   "cell_type": "code",
   "execution_count": 12,
   "id": "9d3c9fd5-7a6d-4cc2-8e61-1fd6f740f475",
   "metadata": {
    "tags": []
   },
   "outputs": [],
   "source": [
    "df9 = dd.read_parquet(\"s3://paul-aug26-buk-a3c2b50a/data/pdefusco/modin/10kcols_100parts\")"
   ]
  },
  {
   "cell_type": "code",
   "execution_count": 13,
   "id": "fffa9eeb-73de-47c9-9a72-131e62ff41f4",
   "metadata": {
    "tags": []
   },
   "outputs": [],
   "source": [
    "df10 = dd.read_parquet(\"s3://paul-aug26-buk-a3c2b50a/data/pdefusco/modin/10kcols_100parts\")"
   ]
  },
  {
   "cell_type": "code",
   "execution_count": 14,
   "id": "ba870aca-600b-454a-9fa4-c70ca1be02da",
   "metadata": {
    "tags": []
   },
   "outputs": [],
   "source": [
    "df11 = dd.read_parquet(\"s3://paul-aug26-buk-a3c2b50a/data/pdefusco/modin/10kcols_100parts\")"
   ]
  },
  {
   "cell_type": "code",
   "execution_count": 15,
   "id": "1a1ed9b6-1000-4742-a68f-424d7a280b0a",
   "metadata": {
    "tags": []
   },
   "outputs": [],
   "source": [
    "df12 = dd.read_parquet(\"s3://paul-aug26-buk-a3c2b50a/data/pdefusco/modin/10kcols_100parts\")"
   ]
  },
  {
   "cell_type": "code",
   "execution_count": 16,
   "id": "951f2c88-5960-44f6-8100-8fd5c363612b",
   "metadata": {
    "tags": []
   },
   "outputs": [],
   "source": [
    "df13 = dd.read_parquet(\"s3://paul-aug26-buk-a3c2b50a/data/pdefusco/modin/10kcols_100parts\")"
   ]
  },
  {
   "cell_type": "code",
   "execution_count": 17,
   "id": "7a6c4866-8472-49d6-b76a-c2b2ff54feb4",
   "metadata": {
    "tags": []
   },
   "outputs": [],
   "source": [
    "df14 = dd.read_parquet(\"s3://paul-aug26-buk-a3c2b50a/data/pdefusco/modin/10kcols_100parts\")"
   ]
  },
  {
   "cell_type": "code",
   "execution_count": 18,
   "id": "e92599d5-51d6-4e8c-a00d-10dc1a5d1d80",
   "metadata": {
    "tags": []
   },
   "outputs": [],
   "source": [
    "df15 = dd.read_parquet(\"s3://paul-aug26-buk-a3c2b50a/data/pdefusco/modin/10kcols_100parts\")"
   ]
  },
  {
   "cell_type": "code",
   "execution_count": 19,
   "id": "7518d4a3-99e9-441b-acf2-b0cc5f7f62ee",
   "metadata": {
    "tags": []
   },
   "outputs": [],
   "source": [
    "df16 = dd.read_parquet(\"s3://paul-aug26-buk-a3c2b50a/data/pdefusco/modin/10kcols_100parts\")"
   ]
  },
  {
   "cell_type": "code",
   "execution_count": 20,
   "id": "8b1d892d-e1ab-4633-ac93-d115c36627e8",
   "metadata": {
    "tags": []
   },
   "outputs": [],
   "source": [
    "df17 = dd.read_parquet(\"s3://paul-aug26-buk-a3c2b50a/data/pdefusco/modin/10kcols_100parts\")"
   ]
  },
  {
   "cell_type": "code",
   "execution_count": 21,
   "id": "f82f9d5f-0907-41d8-b4c5-587d8bc50449",
   "metadata": {
    "tags": []
   },
   "outputs": [],
   "source": [
    "df18 = dd.read_parquet(\"s3://paul-aug26-buk-a3c2b50a/data/pdefusco/modin/10kcols_100parts\")"
   ]
  },
  {
   "cell_type": "code",
   "execution_count": 22,
   "id": "3d291778-5d90-4bee-a5a1-773cca5b68db",
   "metadata": {
    "tags": []
   },
   "outputs": [],
   "source": [
    "df19 = dd.read_parquet(\"s3://paul-aug26-buk-a3c2b50a/data/pdefusco/modin/10kcols_100parts\")"
   ]
  },
  {
   "cell_type": "code",
   "execution_count": 23,
   "id": "66ebc361-3d27-430b-85c5-e1a1f9f52717",
   "metadata": {
    "tags": []
   },
   "outputs": [],
   "source": [
    "df20 = dd.read_parquet(\"s3://paul-aug26-buk-a3c2b50a/data/pdefusco/modin/10kcols_100parts\")"
   ]
  },
  {
   "cell_type": "code",
   "execution_count": 24,
   "id": "0f14f23c-be46-4912-8e78-8fe9378d2d6f",
   "metadata": {
    "tags": []
   },
   "outputs": [],
   "source": [
    "df21 = dd.read_parquet(\"s3://paul-aug26-buk-a3c2b50a/data/pdefusco/modin/10kcols_100parts\")"
   ]
  },
  {
   "cell_type": "code",
   "execution_count": 25,
   "id": "411d51ef-d167-43d7-8c51-5d05bcac9866",
   "metadata": {
    "tags": []
   },
   "outputs": [],
   "source": [
    "df22 = dd.read_parquet(\"s3://paul-aug26-buk-a3c2b50a/data/pdefusco/modin/10kcols_100parts\")"
   ]
  },
  {
   "cell_type": "code",
   "execution_count": 26,
   "id": "5fb945b6-238e-4928-a23d-c01e22a5730b",
   "metadata": {
    "tags": []
   },
   "outputs": [],
   "source": [
    "df23 = dd.read_parquet(\"s3://paul-aug26-buk-a3c2b50a/data/pdefusco/modin/10kcols_100parts\")"
   ]
  },
  {
   "cell_type": "code",
   "execution_count": null,
   "id": "07a1c804-f2bc-4230-a8bf-7f2edde6e52c",
   "metadata": {
    "tags": []
   },
   "outputs": [],
   "source": [
    "#df9 = dd.concat([df,df2,df4,df5,df6,df7,df8],axis=0)"
   ]
  },
  {
   "cell_type": "code",
   "execution_count": 14,
   "id": "a5874b07-6ba9-4a61-91e6-a97755d89112",
   "metadata": {
    "tags": []
   },
   "outputs": [],
   "source": [
    "#start_time = time.time()\n",
    "#df9.groupby(\"col1\").sum().compute()\n",
    "#print(f\"time taken: {time.time() - start_time}\")"
   ]
  },
  {
   "cell_type": "code",
   "execution_count": 15,
   "id": "787d499f-da00-4143-8de6-0517ccc1a3be",
   "metadata": {
    "tags": []
   },
   "outputs": [],
   "source": [
    "#df9.head()"
   ]
  },
  {
   "cell_type": "code",
   "execution_count": 27,
   "id": "53bb199f-baef-4d3c-b7d0-9ffee764ba9f",
   "metadata": {
    "tags": []
   },
   "outputs": [],
   "source": [
    "df2 = df2.drop(\"col1\", axis=1)\n",
    "df4 = df4.drop(\"col1\", axis=1)\n",
    "df5 = df5.drop(\"col1\", axis=1)\n",
    "df6 = df6.drop(\"col1\", axis=1)\n",
    "df7 = df7.drop(\"col1\", axis=1)\n",
    "df8 = df8.drop(\"col1\", axis=1)"
   ]
  },
  {
   "cell_type": "code",
   "execution_count": 28,
   "id": "c4d77ab8-3278-47ac-8594-79456d641434",
   "metadata": {
    "tags": []
   },
   "outputs": [],
   "source": [
    "df9 = df9.drop(\"col1\", axis=1)\n",
    "df10 = df10.drop(\"col1\", axis=1)\n",
    "df11 = df11.drop(\"col1\", axis=1)\n",
    "df12 = df12.drop(\"col1\", axis=1)\n",
    "df13 = df13.drop(\"col1\", axis=1)\n",
    "df14 = df14.drop(\"col1\", axis=1)\n",
    "df15 = df15.drop(\"col1\", axis=1)\n",
    "df16 = df16.drop(\"col1\", axis=1)\n",
    "df17 = df17.drop(\"col1\", axis=1)\n",
    "df18 = df18.drop(\"col1\", axis=1)\n",
    "df19 = df19.drop(\"col1\", axis=1)\n",
    "df20 = df20.drop(\"col1\", axis=1)\n",
    "df21 = df21.drop(\"col1\", axis=1)\n",
    "df22 = df22.drop(\"col1\", axis=1)\n",
    "df23 = df23.drop(\"col1\", axis=1)"
   ]
  },
  {
   "cell_type": "code",
   "execution_count": 29,
   "id": "6800002c-9b0e-45fd-aa3e-e637cd34c7e4",
   "metadata": {
    "tags": []
   },
   "outputs": [],
   "source": [
    "df_list=[df,df2,df4,df5,df6,df7,df8,df9,df10,df11,df12,df13,df14,df15,df16,df17,df18,df19,df20,df21,df22,df23]\n",
    "for i, df in enumerate(df_list, 1):\n",
    "    df.columns = [col_name+'_df{}'.format(i) for col_name in df.columns]"
   ]
  },
  {
   "cell_type": "code",
   "execution_count": 30,
   "id": "2f0611d7-b060-462f-a878-1eaf19f90651",
   "metadata": {
    "tags": []
   },
   "outputs": [],
   "source": [
    "df_merged = dd.concat(df_list,axis=1)"
   ]
  },
  {
   "cell_type": "code",
   "execution_count": 31,
   "id": "b3ddbd98-5313-4b6b-af95-785818e29df8",
   "metadata": {
    "tags": []
   },
   "outputs": [
    {
     "name": "stderr",
     "output_type": "stream",
     "text": [
      "/home/cdsw/.local/lib/python3.10/site-packages/distributed/client.py:3361: UserWarning: Sending large graph of size 11.18 MiB.\n",
      "This may cause some slowdown.\n",
      "Consider loading the data with Dask directly\n",
      " or using futures or delayed objects to embed the data into the graph without repetition.\n",
      "See also https://docs.dask.org/en/stable/best-practices.html#load-data-with-dask for more information.\n",
      "  warnings.warn(\n"
     ]
    },
    {
     "name": "stdout",
     "output_type": "stream",
     "text": [
      "time taken: 1123.3002729415894\n"
     ]
    }
   ],
   "source": [
    "start_time = time.time()\n",
    "df_merged.groupby(\"col1_df1\").sum().compute()\n",
    "print(f\"time taken: {time.time() - start_time}\")"
   ]
  },
  {
   "cell_type": "markdown",
   "id": "4607bc66-d45c-4c53-9ac3-2c293ff57629",
   "metadata": {},
   "source": [
    "### Repartitioning Data"
   ]
  },
  {
   "cell_type": "code",
   "execution_count": 12,
   "id": "ec08c161-e480-41fa-ab84-3da6aa705dae",
   "metadata": {
    "tags": []
   },
   "outputs": [
    {
     "data": {
      "text/plain": [
       "Dask Series Structure:\n",
       "npartitions=1\n",
       "    int64\n",
       "      ...\n",
       "Dask Name: memoryusageframe, 2 expressions\n",
       "Expr=ReadParquetFSSpec(fb0ee25).memoryusageframe(deep=True)"
      ]
     },
     "execution_count": 12,
     "metadata": {},
     "output_type": "execute_result"
    }
   ],
   "source": [
    "df.memory_usage(deep=True)"
   ]
  },
  {
   "cell_type": "code",
   "execution_count": 16,
   "id": "4593a8ae-7331-42c6-bee5-288908d5f5d7",
   "metadata": {
    "tags": []
   },
   "outputs": [
    {
     "data": {
      "text/plain": [
       "Dask Series Structure:\n",
       "npartitions=5000\n",
       "    int64\n",
       "      ...\n",
       "    ...  \n",
       "      ...\n",
       "      ...\n",
       "Dask Name: operation, 2 expressions\n",
       "Expr=MemoryUsagePerPartition(frame=ReadParquetFSSpec(fb0ee25))"
      ]
     },
     "execution_count": 16,
     "metadata": {},
     "output_type": "execute_result"
    }
   ],
   "source": [
    "df.memory_usage_per_partition(index=True, deep=False)"
   ]
  },
  {
   "cell_type": "code",
   "execution_count": 14,
   "id": "16941127-bdc0-48e6-a6e7-d416dcbeb9a9",
   "metadata": {
    "tags": []
   },
   "outputs": [
    {
     "data": {
      "text/plain": [
       "dask_expr._collection.Series"
      ]
     },
     "execution_count": 14,
     "metadata": {},
     "output_type": "execute_result"
    }
   ],
   "source": [
    "type(a)"
   ]
  },
  {
   "cell_type": "code",
   "execution_count": 15,
   "id": "9f6dd0d0-09c0-4840-963f-a8386ecb1780",
   "metadata": {
    "tags": []
   },
   "outputs": [
    {
     "name": "stderr",
     "output_type": "stream",
     "text": [
      "/home/cdsw/.local/lib/python3.10/site-packages/distributed/client.py:3361: UserWarning: Sending large graph of size 25.60 MiB.\n",
      "This may cause some slowdown.\n",
      "Consider loading the data with Dask directly\n",
      " or using futures or delayed objects to embed the data into the graph without repetition.\n",
      "See also https://docs.dask.org/en/stable/best-practices.html#load-data-with-dask for more information.\n",
      "  warnings.warn(\n"
     ]
    },
    {
     "data": {
      "text/plain": [
       "0    399828\n",
       "0    399828\n",
       "0    399828\n",
       "0    399828\n",
       "0    399828\n",
       "      ...  \n",
       "0    399828\n",
       "0    399828\n",
       "0    399828\n",
       "0    399828\n",
       "0    399828\n",
       "Length: 5000, dtype: int64"
      ]
     },
     "execution_count": 15,
     "metadata": {},
     "output_type": "execute_result"
    }
   ],
   "source": [
    "a.compute()"
   ]
  },
  {
   "cell_type": "code",
   "execution_count": 18,
   "id": "3b8bddae-8a0f-4b83-82a8-edded6fc9b7f",
   "metadata": {},
   "outputs": [
    {
     "name": "stderr",
     "output_type": "stream",
     "text": [
      "/home/cdsw/.local/lib/python3.10/site-packages/distributed/client.py:3361: UserWarning: Sending large graph of size 25.29 MiB.\n",
      "This may cause some slowdown.\n",
      "Consider loading the data with Dask directly\n",
      " or using futures or delayed objects to embed the data into the graph without repetition.\n",
      "See also https://docs.dask.org/en/stable/best-practices.html#load-data-with-dask for more information.\n",
      "  warnings.warn(\n"
     ]
    },
    {
     "data": {
      "text/plain": [
       "0    2002500000\n",
       "dtype: int64"
      ]
     },
     "execution_count": 18,
     "metadata": {},
     "output_type": "execute_result"
    }
   ],
   "source": [
    "df = df.repartition(npartitions=1)\n",
    "df.memory_usage_per_partition(index=True, deep=False).compute()"
   ]
  },
  {
   "cell_type": "code",
   "execution_count": 19,
   "id": "d4b7de9c-ddf9-4270-b75f-1deb21c37436",
   "metadata": {
    "tags": []
   },
   "outputs": [
    {
     "name": "stderr",
     "output_type": "stream",
     "text": [
      "/home/cdsw/.local/lib/python3.10/site-packages/distributed/client.py:3361: UserWarning: Sending large graph of size 25.28 MiB.\n",
      "This may cause some slowdown.\n",
      "Consider loading the data with Dask directly\n",
      " or using futures or delayed objects to embed the data into the graph without repetition.\n",
      "See also https://docs.dask.org/en/stable/best-practices.html#load-data-with-dask for more information.\n",
      "  warnings.warn(\n",
      "/home/cdsw/.local/lib/python3.10/site-packages/distributed/client.py:3361: UserWarning: Sending large graph of size 25.32 MiB.\n",
      "This may cause some slowdown.\n",
      "Consider loading the data with Dask directly\n",
      " or using futures or delayed objects to embed the data into the graph without repetition.\n",
      "See also https://docs.dask.org/en/stable/best-practices.html#load-data-with-dask for more information.\n",
      "  warnings.warn(\n"
     ]
    },
    {
     "data": {
      "text/plain": [
       "0    95355045\n",
       "0    95359050\n",
       "0    95355045\n",
       "0    95359050\n",
       "0    95355045\n",
       "0    95359050\n",
       "0    95355045\n",
       "0    95359050\n",
       "0    95355045\n",
       "0    95359050\n",
       "0    95355045\n",
       "0    95359050\n",
       "0    95355045\n",
       "0    95359050\n",
       "0    95355045\n",
       "0    95359050\n",
       "0    95355045\n",
       "0    95359050\n",
       "0    95355045\n",
       "0    95359050\n",
       "0    95359050\n",
       "dtype: int64"
      ]
     },
     "execution_count": 19,
     "metadata": {},
     "output_type": "execute_result"
    }
   ],
   "source": [
    "df = df.repartition(partition_size=\"100MB\")\n",
    "df.memory_usage_per_partition(index=True, deep=False).compute()"
   ]
  },
  {
   "cell_type": "code",
   "execution_count": 20,
   "id": "ed538a6a-5d53-467d-8ab2-11ffd0913764",
   "metadata": {
    "tags": []
   },
   "outputs": [
    {
     "name": "stderr",
     "output_type": "stream",
     "text": [
      "/home/cdsw/.local/lib/python3.10/site-packages/distributed/client.py:3361: UserWarning: Sending large graph of size 25.31 MiB.\n",
      "This may cause some slowdown.\n",
      "Consider loading the data with Dask directly\n",
      " or using futures or delayed objects to embed the data into the graph without repetition.\n",
      "See also https://docs.dask.org/en/stable/best-practices.html#load-data-with-dask for more information.\n",
      "  warnings.warn(\n"
     ]
    },
    {
     "data": {
      "text/plain": [
       "Index     4000000\n",
       "col1      2500000\n",
       "col2      2000000\n",
       "col3      2000000\n",
       "col4      2000000\n",
       "           ...   \n",
       "col995    2000000\n",
       "col996    2000000\n",
       "col997    2000000\n",
       "col998    2000000\n",
       "col999    2000000\n",
       "Length: 1000, dtype: int64"
      ]
     },
     "execution_count": 20,
     "metadata": {},
     "output_type": "execute_result"
    }
   ],
   "source": [
    "df.memory_usage(deep=True).compute()"
   ]
  },
  {
   "cell_type": "code",
   "execution_count": 21,
   "id": "9fe6c291-ceba-481b-8fed-04ef3b367b40",
   "metadata": {
    "tags": []
   },
   "outputs": [
    {
     "name": "stderr",
     "output_type": "stream",
     "text": [
      "/home/cdsw/.local/lib/python3.10/site-packages/distributed/client.py:3361: UserWarning: Sending large graph of size 25.32 MiB.\n",
      "This may cause some slowdown.\n",
      "Consider loading the data with Dask directly\n",
      " or using futures or delayed objects to embed the data into the graph without repetition.\n",
      "See also https://docs.dask.org/en/stable/best-practices.html#load-data-with-dask for more information.\n",
      "  warnings.warn(\n"
     ]
    },
    {
     "data": {
      "text/plain": [
       "21"
      ]
     },
     "execution_count": 21,
     "metadata": {},
     "output_type": "execute_result"
    }
   ],
   "source": [
    "df.memory_usage_per_partition(index=True, deep=False).compute().count()"
   ]
  },
  {
   "cell_type": "code",
   "execution_count": 22,
   "id": "5a443acb-5384-489c-9a31-ea50951542c1",
   "metadata": {
    "tags": []
   },
   "outputs": [
    {
     "data": {
      "text/plain": [
       "21"
      ]
     },
     "execution_count": 22,
     "metadata": {},
     "output_type": "execute_result"
    }
   ],
   "source": [
    "df.npartitions"
   ]
  },
  {
   "cell_type": "code",
   "execution_count": null,
   "id": "bb7408fe-14c0-4f43-bcf0-3d848df52b96",
   "metadata": {},
   "outputs": [],
   "source": []
  }
 ],
 "metadata": {
  "kernelspec": {
   "display_name": "Python 3 (ipykernel)",
   "language": "python",
   "name": "python3"
  },
  "language_info": {
   "codemirror_mode": {
    "name": "ipython",
    "version": 3
   },
   "file_extension": ".py",
   "mimetype": "text/x-python",
   "name": "python",
   "nbconvert_exporter": "python",
   "pygments_lexer": "ipython3",
   "version": "3.10.13"
  }
 },
 "nbformat": 4,
 "nbformat_minor": 5
}
